{
 "cells": [
  {
   "cell_type": "code",
   "execution_count": 1,
   "metadata": {},
   "outputs": [],
   "source": [
    "import pandas as pd\n",
    "import numpy as np\n",
    "import string\n",
    "import nltk\n",
    "from nltk.corpus import stopwords\n",
    "from nltk.stem.porter import PorterStemmer\n",
    "from sklearn.model_selection import train_test_split, cross_val_score\n",
    "from sklearn.tree import DecisionTreeClassifier\n",
    "import matplotlib.pyplot as plt"
   ]
  },
  {
   "cell_type": "code",
   "execution_count": 2,
   "metadata": {},
   "outputs": [
    {
     "name": "stderr",
     "output_type": "stream",
     "text": [
      "[nltk_data] Downloading package punkt to /home/malav312/nltk_data...\n",
      "[nltk_data]   Package punkt is already up-to-date!\n",
      "[nltk_data] Downloading package stopwords to\n",
      "[nltk_data]     /home/malav312/nltk_data...\n",
      "[nltk_data]   Package stopwords is already up-to-date!\n"
     ]
    },
    {
     "data": {
      "text/plain": [
       "True"
      ]
     },
     "execution_count": 2,
     "metadata": {},
     "output_type": "execute_result"
    }
   ],
   "source": [
    "nltk.download('punkt')\n",
    "nltk.download('stopwords')"
   ]
  },
  {
   "cell_type": "code",
   "execution_count": 4,
   "metadata": {},
   "outputs": [],
   "source": [
    "#Pre_Processing\n",
    "def preprocess(text):\n",
    "    stemmer = PorterStemmer()\n",
    "    remove_punctuation_map = dict((ord(char), None) for char in string.punctuation)\n",
    "    \n",
    "    lowers = text.lower()\n",
    "    no_punctuation = lowers.translate(remove_punctuation_map)\n",
    "    tokens = nltk.word_tokenize(no_punctuation)\n",
    "    filtered = [w for w in tokens if not w in stopwords.words(\"english\")]\n",
    "    stemmed = [stemmer.stem(item) for item in filtered]\n",
    "    \n",
    "    return ' '.join(stemmed)"
   ]
  },
  {
   "cell_type": "code",
   "execution_count": 5,
   "metadata": {},
   "outputs": [],
   "source": [
    "df = pd.read_csv('news-train-1.csv')\n",
    "df['Text'] = df['Text'].apply(preprocess)"
   ]
  },
  {
   "cell_type": "code",
   "execution_count": 21,
   "metadata": {},
   "outputs": [],
   "source": [
    "from sklearn.feature_extraction.text import TfidfVectorizer\n",
    "tfidf_vectorizer = TfidfVectorizer(max_features=1000)  # You can adjust max_features as needed\n",
    "\n",
    "# Transform the text data into TF-IDF features\n",
    "X_train_tfidf = tfidf_vectorizer.fit_transform(X_train)\n",
    "X_val_tfidf = tfidf_vectorizer.transform(X_val)\n",
    "\n",
    "# Function to evaluate decision tree with different criterion\n",
    "def evaluate_decision_tree(criterion):\n",
    "    clf = DecisionTreeClassifier(criterion=criterion, random_state=42)\n",
    "    clf.fit(X_train_tfidf, y_train)\n",
    "    \n",
    "    # Training accuracy\n",
    "    train_acc = clf.score(X_train_tfidf, y_train)\n",
    "    \n",
    "    # Validation accuracy\n",
    "    val_acc = clf.score(X_val_tfidf, y_val)\n",
    "    \n",
    "    return train_acc, val_acc"
   ]
  },
  {
   "cell_type": "code",
   "execution_count": 66,
   "metadata": {},
   "outputs": [
    {
     "data": {
      "image/png": "[encoded data removed]",
      "text/plain": [
       "<Figure size 432x288 with 1 Axes>"
      ]
     },
     "metadata": {
      "needs_background": "light"
     },
     "output_type": "display_data"
    }
   ],
   "source": [
    "#Splitting the data\n",
    "X = df['Text']\n",
    "y = df['Category']\n",
    "X_train, X_val, y_train, y_val = train_test_split(df['Text'], df['Category'], test_size=0.2, random_state=0)\n",
    "\n",
    "\n",
    "criteria = [\"gini\", \"entropy\"]\n",
    "train_accuracies = []\n",
    "val_accuracies = []\n",
    "\n",
    "width = 0.25\n",
    "multiplier = 0\n",
    "\n",
    "fig, ax = plt.subplots(layout = 'constrained')\n",
    "x = np.arange(2)\n",
    "for criterion in criteria:\n",
    "    train_acc, val_acc = evaluate_decision_tree(criterion)\n",
    "    offset = width * multiplier\n",
    "    rects = ax.bar(x + offset, [train_acc, val_acc], width, label=criterion)\n",
    "    ax.bar_label(rects, padding=3)\n",
    "    multiplier += 1\n",
    "\n",
    "ax.set_ylabel('Accuracy')\n",
    "ax.set_title('Accuracy by Criterion')\n",
    "ax.set_xticks(x + width / 2, ['train accuracy', 'validation accuracy'])\n",
    "plt.show()"
   ]
  },
  {
   "cell_type": "code",
   "execution_count": 42,
   "metadata": {},
   "outputs": [
    {
     "name": "stdout",
     "output_type": "stream",
     "text": [
      "(1063, 16919)\n",
      "(213, 16919)\n"
     ]
    }
   ],
   "source": [
    "#5-corss validation\n",
    "from sklearn.feature_extraction.text import CountVectorizer\n",
    "from sklearn.model_selection import KFold\n",
    "\n",
    "vectorizer = CountVectorizer()\n",
    "train_val_X = vectorizer.fit_transform(X)\n",
    "val_X = vectorizer.transform(X_val)\n",
    "\n",
    "print(train_val_X.shape)\n",
    "print(val_X.shape)"
   ]
  },
  {
   "cell_type": "code",
   "execution_count": 121,
   "metadata": {},
   "outputs": [],
   "source": [
    "from sklearn import tree\n",
    "import numpy as np\n",
    "def dtc_parameter_tune(train_val_X, train_val_y,parameter, new =True):\n",
    "    # depths = [2*i for i in range(5,16)] #min_sample_leaf\n",
    "    train_acc_all = []\n",
    "    val_acc_all = []\n",
    "\n",
    "    kf = KFold(n_splits = 5)\n",
    "    for depth in parameter:\n",
    "        train_acc = []\n",
    "        val_acc = []\n",
    "        # print(\"========= depth:\", depth)\n",
    "        for train_index, val_index in kf.split(train_val_X):\n",
    "            ##########################\n",
    "            train_X = train_val_X[train_index,:]\n",
    "            val_X = train_val_X[val_index,:]\n",
    "\n",
    "            train_y = train_val_y[train_index]\n",
    "            val_y = train_val_y[val_index]\n",
    "            if new==True: \n",
    "                dtc = tree.DecisionTreeClassifier(max_depth=parameter)\n",
    "            else:\n",
    "                dtc = tree.DecisionTreeClassifier(max_features=parameter)\n",
    "            dtc.fit(train_X, train_y)\n",
    "            train_acc.append(dtc.score(train_X, train_y))\n",
    "            val_acc.append(dtc.score(val_X, val_y))\n",
    "            # print(\"========= val_index:\", val_index)\n",
    "            ##########################\n",
    "\n",
    "        avg_train_acc = sum(train_acc) / len(train_acc)\n",
    "        avg_val_acc = sum(val_acc) / len(val_acc)\n",
    "        train_acc_all.append(avg_train_acc)\n",
    "        val_acc_all.append(avg_val_acc)\n",
    "\n",
    "    return parameter, train_acc_all, val_acc_all\n"
   ]
  },
  {
   "cell_type": "markdown",
   "metadata": {},
   "source": [
    "Inintially tried values wihth min_sample_leaf = [10,50,80,100,120,180,200] where the sample converged to 1. Hence taking values from [5,15](inclusive)"
   ]
  },
  {
   "cell_type": "code",
   "execution_count": 123,
   "metadata": {},
   "outputs": [
    {
     "ename": "TypeError",
     "evalue": "'<=' not supported between instances of 'list' and 'int'",
     "output_type": "error",
     "traceback": [
      "\u001b[0;31m---------------------------------------------------------------------------\u001b[0m",
      "\u001b[0;31mTypeError\u001b[0m                                 Traceback (most recent call last)",
      "\u001b[1;32m/home/malav312/Desktop/Academics@ASU/CSE572_DM/Data-Mining/classification_over_corpus/code.ipynb Cell 10\u001b[0m line \u001b[0;36m<cell line: 3>\u001b[0;34m()\u001b[0m\n\u001b[1;32m      <a href='vscode-notebook-cell:/home/malav312/Desktop/Academics%40ASU/CSE572_DM/Data-Mining/classification_over_corpus/code.ipynb#X20sZmlsZQ%3D%3D?line=0'>1</a>\u001b[0m \u001b[39mfrom\u001b[39;00m \u001b[39mtabulate\u001b[39;00m \u001b[39mimport\u001b[39;00m tabulate\n\u001b[1;32m      <a href='vscode-notebook-cell:/home/malav312/Desktop/Academics%40ASU/CSE572_DM/Data-Mining/classification_over_corpus/code.ipynb#X20sZmlsZQ%3D%3D?line=1'>2</a>\u001b[0m depth_values \u001b[39m=\u001b[39m [\u001b[39m2\u001b[39m\u001b[39m*\u001b[39mi \u001b[39mfor\u001b[39;00m i \u001b[39min\u001b[39;00m \u001b[39mrange\u001b[39m(\u001b[39m5\u001b[39m,\u001b[39m16\u001b[39m)]\n\u001b[0;32m----> <a href='vscode-notebook-cell:/home/malav312/Desktop/Academics%40ASU/CSE572_DM/Data-Mining/classification_over_corpus/code.ipynb#X20sZmlsZQ%3D%3D?line=2'>3</a>\u001b[0m depths, train_acc_all, val_acc_all \u001b[39m=\u001b[39m dtc_parameter_tune(train_val_X, y, parameter\u001b[39m=\u001b[39;49mdepth_values, new\u001b[39m=\u001b[39;49m\u001b[39mTrue\u001b[39;49;00m)\n\u001b[1;32m      <a href='vscode-notebook-cell:/home/malav312/Desktop/Academics%40ASU/CSE572_DM/Data-Mining/classification_over_corpus/code.ipynb#X20sZmlsZQ%3D%3D?line=3'>4</a>\u001b[0m results_table \u001b[39m=\u001b[39m []\n\u001b[1;32m      <a href='vscode-notebook-cell:/home/malav312/Desktop/Academics%40ASU/CSE572_DM/Data-Mining/classification_over_corpus/code.ipynb#X20sZmlsZQ%3D%3D?line=4'>5</a>\u001b[0m \u001b[39mfor\u001b[39;00m depth, train_acc, val_acc \u001b[39min\u001b[39;00m \u001b[39mzip\u001b[39m(depths, train_acc_all, val_acc_all):\n",
      "\u001b[1;32m/home/malav312/Desktop/Academics@ASU/CSE572_DM/Data-Mining/classification_over_corpus/code.ipynb Cell 10\u001b[0m line \u001b[0;36mdtc_parameter_tune\u001b[0;34m(train_val_X, train_val_y, parameter, new)\u001b[0m\n\u001b[1;32m     <a href='vscode-notebook-cell:/home/malav312/Desktop/Academics%40ASU/CSE572_DM/Data-Mining/classification_over_corpus/code.ipynb#X20sZmlsZQ%3D%3D?line=21'>22</a>\u001b[0m \u001b[39melse\u001b[39;00m:\n\u001b[1;32m     <a href='vscode-notebook-cell:/home/malav312/Desktop/Academics%40ASU/CSE572_DM/Data-Mining/classification_over_corpus/code.ipynb#X20sZmlsZQ%3D%3D?line=22'>23</a>\u001b[0m     dtc \u001b[39m=\u001b[39m tree\u001b[39m.\u001b[39mDecisionTreeClassifier(max_features\u001b[39m=\u001b[39mparameter)\n\u001b[0;32m---> <a href='vscode-notebook-cell:/home/malav312/Desktop/Academics%40ASU/CSE572_DM/Data-Mining/classification_over_corpus/code.ipynb#X20sZmlsZQ%3D%3D?line=23'>24</a>\u001b[0m dtc\u001b[39m.\u001b[39;49mfit(train_X, train_y)\n\u001b[1;32m     <a href='vscode-notebook-cell:/home/malav312/Desktop/Academics%40ASU/CSE572_DM/Data-Mining/classification_over_corpus/code.ipynb#X20sZmlsZQ%3D%3D?line=24'>25</a>\u001b[0m train_acc\u001b[39m.\u001b[39mappend(dtc\u001b[39m.\u001b[39mscore(train_X, train_y))\n\u001b[1;32m     <a href='vscode-notebook-cell:/home/malav312/Desktop/Academics%40ASU/CSE572_DM/Data-Mining/classification_over_corpus/code.ipynb#X20sZmlsZQ%3D%3D?line=25'>26</a>\u001b[0m val_acc\u001b[39m.\u001b[39mappend(dtc\u001b[39m.\u001b[39mscore(val_X, val_y))\n",
      "File \u001b[0;32m~/.local/lib/python3.8/site-packages/sklearn/tree/_classes.py:937\u001b[0m, in \u001b[0;36mDecisionTreeClassifier.fit\u001b[0;34m(self, X, y, sample_weight, check_input, X_idx_sorted)\u001b[0m\n\u001b[1;32m    899\u001b[0m \u001b[39mdef\u001b[39;00m \u001b[39mfit\u001b[39m(\n\u001b[1;32m    900\u001b[0m     \u001b[39mself\u001b[39m, X, y, sample_weight\u001b[39m=\u001b[39m\u001b[39mNone\u001b[39;00m, check_input\u001b[39m=\u001b[39m\u001b[39mTrue\u001b[39;00m, X_idx_sorted\u001b[39m=\u001b[39m\u001b[39m\"\u001b[39m\u001b[39mdeprecated\u001b[39m\u001b[39m\"\u001b[39m\n\u001b[1;32m    901\u001b[0m ):\n\u001b[1;32m    902\u001b[0m     \u001b[39m\"\"\"Build a decision tree classifier from the training set (X, y).\u001b[39;00m\n\u001b[1;32m    903\u001b[0m \n\u001b[1;32m    904\u001b[0m \u001b[39m    Parameters\u001b[39;00m\n\u001b[0;32m   (...)\u001b[0m\n\u001b[1;32m    934\u001b[0m \u001b[39m        Fitted estimator.\u001b[39;00m\n\u001b[1;32m    935\u001b[0m \u001b[39m    \"\"\"\u001b[39;00m\n\u001b[0;32m--> 937\u001b[0m     \u001b[39msuper\u001b[39;49m()\u001b[39m.\u001b[39;49mfit(\n\u001b[1;32m    938\u001b[0m         X,\n\u001b[1;32m    939\u001b[0m         y,\n\u001b[1;32m    940\u001b[0m         sample_weight\u001b[39m=\u001b[39;49msample_weight,\n\u001b[1;32m    941\u001b[0m         check_input\u001b[39m=\u001b[39;49mcheck_input,\n\u001b[1;32m    942\u001b[0m         X_idx_sorted\u001b[39m=\u001b[39;49mX_idx_sorted,\n\u001b[1;32m    943\u001b[0m     )\n\u001b[1;32m    944\u001b[0m     \u001b[39mreturn\u001b[39;00m \u001b[39mself\u001b[39m\n",
      "File \u001b[0;32m~/.local/lib/python3.8/site-packages/sklearn/tree/_classes.py:305\u001b[0m, in \u001b[0;36mBaseDecisionTree.fit\u001b[0;34m(self, X, y, sample_weight, check_input, X_idx_sorted)\u001b[0m\n\u001b[1;32m    303\u001b[0m \u001b[39mif\u001b[39;00m \u001b[39mnot\u001b[39;00m \u001b[39m0\u001b[39m \u001b[39m<\u001b[39m\u001b[39m=\u001b[39m \u001b[39mself\u001b[39m\u001b[39m.\u001b[39mmin_weight_fraction_leaf \u001b[39m<\u001b[39m\u001b[39m=\u001b[39m \u001b[39m0.5\u001b[39m:\n\u001b[1;32m    304\u001b[0m     \u001b[39mraise\u001b[39;00m \u001b[39mValueError\u001b[39;00m(\u001b[39m\"\u001b[39m\u001b[39mmin_weight_fraction_leaf must in [0, 0.5]\u001b[39m\u001b[39m\"\u001b[39m)\n\u001b[0;32m--> 305\u001b[0m \u001b[39mif\u001b[39;00m max_depth \u001b[39m<\u001b[39;49m\u001b[39m=\u001b[39;49m \u001b[39m0\u001b[39;49m:\n\u001b[1;32m    306\u001b[0m     \u001b[39mraise\u001b[39;00m \u001b[39mValueError\u001b[39;00m(\u001b[39m\"\u001b[39m\u001b[39mmax_depth must be greater than zero. \u001b[39m\u001b[39m\"\u001b[39m)\n\u001b[1;32m    307\u001b[0m \u001b[39mif\u001b[39;00m \u001b[39mnot\u001b[39;00m (\u001b[39m0\u001b[39m \u001b[39m<\u001b[39m max_features \u001b[39m<\u001b[39m\u001b[39m=\u001b[39m \u001b[39mself\u001b[39m\u001b[39m.\u001b[39mn_features_in_):\n",
      "\u001b[0;31mTypeError\u001b[0m: '<=' not supported between instances of 'list' and 'int'"
     ]
    }
   ],
   "source": [
    "from tabulate import tabulate\n",
    "depth_values = [2*i for i in range(5,16)]\n",
    "depths, train_acc_all, val_acc_all = dtc_parameter_tune(train_val_X, y, parameter=depth_values, new=True)\n",
    "results_table = []\n",
    "for depth, train_acc, val_acc in zip(depths, train_acc_all, val_acc_all):\n",
    "    results_table.append([depth, train_acc, val_acc])\n",
    "\n",
    "# Print the table\n",
    "headers = [\"Minimum Sample Leaves\", \"Training Accuracy\", \"Validation Accuracy \"]\n",
    "print(tabulate(results_table, headers=headers, tablefmt=\"grid\"))\n"
   ]
  },
  {
   "cell_type": "code",
   "execution_count": 103,
   "metadata": {},
   "outputs": [
    {
     "data": {
      "text/plain": [
       "<matplotlib.legend.Legend at 0x7f18561cf970>"
      ]
     },
     "execution_count": 103,
     "metadata": {},
     "output_type": "execute_result"
    },
    {
     "data": {
      "image/png": "[encoded data removed]",
      "text/plain": [
       "<Figure size 432x288 with 1 Axes>"
      ]
     },
     "metadata": {
      "needs_background": "light"
     },
     "output_type": "display_data"
    }
   ],
   "source": [
    "# plot training/validation curves\n",
    "plt.plot(depths, train_acc_all, marker='.', label=\"Training accuracy\")\n",
    "plt.plot(depths, val_acc_all, marker='.', label=\"Validation accuracy\")\n",
    "plt.xlabel('Depth of tree')\n",
    "plt.ylabel('Accuracy')\n",
    "plt.legend()"
   ]
  },
  {
   "cell_type": "code",
   "execution_count": 110,
   "metadata": {},
   "outputs": [],
   "source": [
    "#features for different criterion\n",
    "# tfidf_vectorizer = TfidfVectorizer(max_features=1000)\n",
    "# X_tfidf = tfidf_vectorizer.transform(X)\n",
    "\n",
    "#Sentiment\n",
    "from textblob import TextBlob\n",
    "df['sentiment'] = df['Text'].apply(lambda x: TextBlob(x).sentiment.polarity)\n",
    "\n",
    "df['avg_word_length'] = df['Text'].apply(lambda x: np.mean([len(word) for word in x.split()]))\n",
    "df['max_word_length'] = df['Text'].apply(lambda x: np.max([len(word) for word in x.split()]))\n",
    "\n",
    "count_vectorizer = CountVectorizer(ngram_range=(2, 2), max_features=1000)  # Adjust n-gram range and max_features\n",
    "X_bigrams = count_vectorizer.fit_transform(df['Text'])\n",
    "\n"
   ]
  },
  {
   "cell_type": "code",
   "execution_count": 112,
   "metadata": {},
   "outputs": [
    {
     "data": {
      "text/html": [
       "<div>\n",
       "<style scoped>\n",
       "    .dataframe tbody tr th:only-of-type {\n",
       "        vertical-align: middle;\n",
       "    }\n",
       "\n",
       "    .dataframe tbody tr th {\n",
       "        vertical-align: top;\n",
       "    }\n",
       "\n",
       "    .dataframe thead th {\n",
       "        text-align: right;\n",
       "    }\n",
       "</style>\n",
       "<table border=\"1\" class=\"dataframe\">\n",
       "  <thead>\n",
       "    <tr style=\"text-align: right;\">\n",
       "      <th></th>\n",
       "      <th>ArticleId</th>\n",
       "      <th>Text</th>\n",
       "      <th>Category</th>\n",
       "      <th>sentiment</th>\n",
       "      <th>avg_word_length</th>\n",
       "      <th>max_word_length</th>\n",
       "    </tr>\n",
       "  </thead>\n",
       "  <tbody>\n",
       "    <tr>\n",
       "      <th>0</th>\n",
       "      <td>893</td>\n",
       "      <td>ranger seal old firm win goal gregori vignal n...</td>\n",
       "      <td>sport</td>\n",
       "      <td>0.123455</td>\n",
       "      <td>5.470000</td>\n",
       "      <td>10</td>\n",
       "    </tr>\n",
       "    <tr>\n",
       "      <th>1</th>\n",
       "      <td>1164</td>\n",
       "      <td>bt program beat dialler scam bt introduc two i...</td>\n",
       "      <td>tech</td>\n",
       "      <td>0.037338</td>\n",
       "      <td>5.210526</td>\n",
       "      <td>12</td>\n",
       "    </tr>\n",
       "    <tr>\n",
       "      <th>2</th>\n",
       "      <td>1696</td>\n",
       "      <td>new yob target unveil fifti new area get speci...</td>\n",
       "      <td>politics</td>\n",
       "      <td>0.150054</td>\n",
       "      <td>5.153527</td>\n",
       "      <td>10</td>\n",
       "    </tr>\n",
       "    <tr>\n",
       "      <th>3</th>\n",
       "      <td>396</td>\n",
       "      <td>holm hit hamstr injuri kelli holm forc weekend...</td>\n",
       "      <td>sport</td>\n",
       "      <td>0.264286</td>\n",
       "      <td>5.152000</td>\n",
       "      <td>12</td>\n",
       "    </tr>\n",
       "    <tr>\n",
       "      <th>4</th>\n",
       "      <td>1862</td>\n",
       "      <td>capriati australian open jennif capriati becom...</td>\n",
       "      <td>sport</td>\n",
       "      <td>0.141209</td>\n",
       "      <td>6.054795</td>\n",
       "      <td>12</td>\n",
       "    </tr>\n",
       "    <tr>\n",
       "      <th>...</th>\n",
       "      <td>...</td>\n",
       "      <td>...</td>\n",
       "      <td>...</td>\n",
       "      <td>...</td>\n",
       "      <td>...</td>\n",
       "      <td>...</td>\n",
       "    </tr>\n",
       "    <tr>\n",
       "      <th>1058</th>\n",
       "      <td>101</td>\n",
       "      <td>housew lift channel 4 rate debut us televis hi...</td>\n",
       "      <td>entertainment</td>\n",
       "      <td>0.065152</td>\n",
       "      <td>5.195312</td>\n",
       "      <td>12</td>\n",
       "    </tr>\n",
       "    <tr>\n",
       "      <th>1059</th>\n",
       "      <td>1369</td>\n",
       "      <td>uk apolog coloni past day britain apologis col...</td>\n",
       "      <td>politics</td>\n",
       "      <td>-0.016718</td>\n",
       "      <td>5.324873</td>\n",
       "      <td>11</td>\n",
       "    </tr>\n",
       "    <tr>\n",
       "      <th>1060</th>\n",
       "      <td>2221</td>\n",
       "      <td>car pull us retail figur us retail sale fell 0...</td>\n",
       "      <td>business</td>\n",
       "      <td>0.349267</td>\n",
       "      <td>4.978610</td>\n",
       "      <td>11</td>\n",
       "    </tr>\n",
       "    <tr>\n",
       "      <th>1061</th>\n",
       "      <td>916</td>\n",
       "      <td>highburi tunnel player clear footbal associ sa...</td>\n",
       "      <td>sport</td>\n",
       "      <td>0.024709</td>\n",
       "      <td>5.178161</td>\n",
       "      <td>10</td>\n",
       "    </tr>\n",
       "    <tr>\n",
       "      <th>1062</th>\n",
       "      <td>288</td>\n",
       "      <td>peer debat crown success law peer debat propos...</td>\n",
       "      <td>politics</td>\n",
       "      <td>0.197354</td>\n",
       "      <td>5.232143</td>\n",
       "      <td>10</td>\n",
       "    </tr>\n",
       "  </tbody>\n",
       "</table>\n",
       "<p>1063 rows × 6 columns</p>\n",
       "</div>"
      ],
      "text/plain": [
       "      ArticleId                                               Text  \\\n",
       "0           893  ranger seal old firm win goal gregori vignal n...   \n",
       "1          1164  bt program beat dialler scam bt introduc two i...   \n",
       "2          1696  new yob target unveil fifti new area get speci...   \n",
       "3           396  holm hit hamstr injuri kelli holm forc weekend...   \n",
       "4          1862  capriati australian open jennif capriati becom...   \n",
       "...         ...                                                ...   \n",
       "1058        101  housew lift channel 4 rate debut us televis hi...   \n",
       "1059       1369  uk apolog coloni past day britain apologis col...   \n",
       "1060       2221  car pull us retail figur us retail sale fell 0...   \n",
       "1061        916  highburi tunnel player clear footbal associ sa...   \n",
       "1062        288  peer debat crown success law peer debat propos...   \n",
       "\n",
       "           Category  sentiment  avg_word_length  max_word_length  \n",
       "0             sport   0.123455         5.470000               10  \n",
       "1              tech   0.037338         5.210526               12  \n",
       "2          politics   0.150054         5.153527               10  \n",
       "3             sport   0.264286         5.152000               12  \n",
       "4             sport   0.141209         6.054795               12  \n",
       "...             ...        ...              ...              ...  \n",
       "1058  entertainment   0.065152         5.195312               12  \n",
       "1059       politics  -0.016718         5.324873               11  \n",
       "1060       business   0.349267         4.978610               11  \n",
       "1061          sport   0.024709         5.178161               10  \n",
       "1062       politics   0.197354         5.232143               10  \n",
       "\n",
       "[1063 rows x 6 columns]"
      ]
     },
     "execution_count": 112,
     "metadata": {},
     "output_type": "execute_result"
    }
   ],
   "source": [
    "df"
   ]
  },
  {
   "cell_type": "code",
   "execution_count": 114,
   "metadata": {},
   "outputs": [
    {
     "name": "stdout",
     "output_type": "stream",
     "text": [
      "(1063, 1000)\n",
      "(1063,)\n"
     ]
    }
   ],
   "source": [
    "print(X_bigrams.shape)\n",
    "print(X.shape)"
   ]
  },
  {
   "cell_type": "code",
   "execution_count": 67,
   "metadata": {},
   "outputs": [
    {
     "name": "stdout",
     "output_type": "stream",
     "text": [
      "DecisionTreeClassifier(min_samples_leaf=10, random_state=42)\n",
      "DecisionTreeClassifier(min_samples_leaf=50, random_state=42)\n",
      "DecisionTreeClassifier(min_samples_leaf=100, random_state=42)\n",
      "DecisionTreeClassifier(min_samples_leaf=150, random_state=42)\n",
      "DecisionTreeClassifier(min_samples_leaf=200, random_state=42)\n",
      "min_samples_leaf\tTraining Accuracy\tValidation Accuracy\n",
      "10\t\t0.768\t\t0.784\n",
      "50\t\t0.659\t\t0.714\n",
      "100\t\t0.461\t\t0.587\n",
      "150\t\t0.411\t\t0.498\n",
      "200\t\t0.364\t\t0.371\n"
     ]
    }
   ],
   "source": [
    "def evaluate_decision_tree_cv(parameter_name, parameter_values):\n",
    "    results = {}\n",
    "    \n",
    "    for param_value in parameter_values:\n",
    "        clf = DecisionTreeClassifier(random_state=42, **{parameter_name: param_value})\n",
    "        print(clf)\n",
    "        cv_scores = cross_val_score(clf, X_train_tfidf, y_train, cv=5)\n",
    "        results[param_value] = {\n",
    "            'Training Accuracy': np.mean(cv_scores),\n",
    "            'Validation Accuracy': clf.fit(X_train_tfidf, y_train).score(X_val_tfidf, y_val)\n",
    "        }\n",
    "    \n",
    "    return results\n",
    "\n",
    "# Evaluate decision tree with different min_samples_leaf values\n",
    "min_samples_leaf_values = [10, 50, 100,150, 200]\n",
    "results_min_samples_leaf = evaluate_decision_tree_cv('min_samples_leaf', min_samples_leaf_values)\n",
    "\n",
    "# Print results in a table\n",
    "print(\"min_samples_leaf\\tTraining Accuracy\\tValidation Accuracy\")\n",
    "for param_value, scores in results_min_samples_leaf.items():\n",
    "    print(f\"{param_value}\\t\\t{scores['Training Accuracy']:.3f}\\t\\t{scores['Validation Accuracy']:.3f}\")\n",
    "\n",
    "\n"
   ]
  },
  {
   "cell_type": "code",
   "execution_count": null,
   "metadata": {},
   "outputs": [],
   "source": []
  }
 ],
 "metadata": {
  "kernelspec": {
   "display_name": "Python 3",
   "language": "python",
   "name": "python3"
  },
  "language_info": {
   "codemirror_mode": {
    "name": "ipython",
    "version": 3
   },
   "file_extension": ".py",
   "mimetype": "text/x-python",
   "name": "python",
   "nbconvert_exporter": "python",
   "pygments_lexer": "ipython3",
   "version": "3.8.10"
  },
  "orig_nbformat": 4
 },
 "nbformat": 4,
 "nbformat_minor": 2
}
